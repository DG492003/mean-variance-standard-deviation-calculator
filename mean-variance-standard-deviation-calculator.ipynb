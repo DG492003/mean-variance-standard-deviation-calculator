{
 "cells": [
  {
   "cell_type": "code",
   "execution_count": 1,
   "id": "f9dea2d3",
   "metadata": {},
   "outputs": [],
   "source": [
    "# importing numpy\n",
    "import numpy as np"
   ]
  },
  {
   "cell_type": "code",
   "execution_count": 3,
   "id": "309678b0",
   "metadata": {},
   "outputs": [],
   "source": [
    "# creating function which takes list of 9 elements as a input\n",
    "def calculate(list):\n",
    "    \n",
    "#checks the length of list if it is not 9 raise a valueError\n",
    "     if(len(list)<9 | len(list)>9):\n",
    "             raise ValueError(\"List must contain nine numbers.\")\n",
    "     else:\n",
    "#convert list into (3*3) numpy array\n",
    "             A = np.array(list).reshape(3,3)  \n",
    "# finding mean of rows,columns and flatten array\n",
    "             mean_rows=A.mean(axis=0).tolist()\n",
    "             mean_columns=A.mean(axis=1).tolist()\n",
    "             mean_flatten=A.flatten().mean()\n",
    "# finding variance of rows,columns and flatten array\n",
    "             var_rows=A.var(axis=0).tolist()\n",
    "             var_columns=A.var(axis=1).tolist()\n",
    "             var_flatten=A.flatten().var()\n",
    "# finding standard deviation of rows,columns and flatten array\n",
    "             std_rows=A.std(axis=0).tolist()\n",
    "             std_columns=A.std(axis=1).tolist()\n",
    "             std_flatten=A.flatten().std()\n",
    "# finding maximum of rows,columns and flatten array\n",
    "             max_rows=A.max(axis=0).tolist()\n",
    "             max_columns=A.max(axis=1).tolist()\n",
    "             max_flatten=A.flatten().max()\n",
    "# finding minimum of rows,columns and flatten array  \n",
    "             min_rows=A.min(axis=0).tolist()\n",
    "             min_columns=A.min(axis=1).tolist()\n",
    "             min_flatten=A.flatten().min()\n",
    "# finding sum of rows,columns and flatten array  \n",
    "             sum_rows=A.sum(axis=0).tolist()\n",
    "             sum_columns=A.sum(axis=1).tolist()\n",
    "             sum_flatten=A.flatten().sum()\n",
    "            \n",
    "# create a dictionary which stores all result\n",
    "             calculations={\n",
    "                    'mean': [mean_rows,mean_columns,mean_flatten],\n",
    "                    'variance':[var_rows,var_columns,var_flatten],\n",
    "                    'standard deviation':[std_rows,std_columns,std_flatten],\n",
    "                    'max':[max_rows,max_columns,max_flatten],\n",
    "                    'min':[min_rows,min_columns,min_flatten],\n",
    "                    'sum':[sum_rows,sum_columns,sum_flatten]\n",
    "                   } \n",
    "    \n",
    "# return the dictionary \n",
    "     return calculations"
   ]
  },
  {
   "cell_type": "code",
   "execution_count": null,
   "id": "0a92fe96",
   "metadata": {},
   "outputs": [],
   "source": []
  }
 ],
 "metadata": {
  "kernelspec": {
   "display_name": "Python 3 (ipykernel)",
   "language": "python",
   "name": "python3"
  },
  "language_info": {
   "codemirror_mode": {
    "name": "ipython",
    "version": 3
   },
   "file_extension": ".py",
   "mimetype": "text/x-python",
   "name": "python",
   "nbconvert_exporter": "python",
   "pygments_lexer": "ipython3",
   "version": "3.11.3"
  }
 },
 "nbformat": 4,
 "nbformat_minor": 5
}
